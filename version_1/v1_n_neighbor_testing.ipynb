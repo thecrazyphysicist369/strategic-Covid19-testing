{
  "nbformat": 4,
  "nbformat_minor": 0,
  "metadata": {
    "colab": {
      "name": "v1_n-neighbor testing.ipynb",
      "provenance": [],
      "collapsed_sections": [],
      "authorship_tag": "ABX9TyPRTuljMCUCTqwrqUvA14qA",
      "include_colab_link": true
    },
    "kernelspec": {
      "name": "python3",
      "display_name": "Python 3"
    }
  },
  "cells": [
    {
      "cell_type": "markdown",
      "metadata": {
        "id": "view-in-github",
        "colab_type": "text"
      },
      "source": [
        "<a href=\"https://colab.research.google.com/github/thecrazyphysicist369/strategic-Covid19-testing/blob/main/version_1/v1_n_neighbor_testing.ipynb\" target=\"_parent\"><img src=\"https://colab.research.google.com/assets/colab-badge.svg\" alt=\"Open In Colab\"/></a>"
      ]
    },
    {
      "cell_type": "markdown",
      "metadata": {
        "id": "lpznYE2Q_KrW"
      },
      "source": [
        "#n-Neighbor Testing in Small World Network"
      ]
    },
    {
      "cell_type": "code",
      "metadata": {
        "id": "NC8fHcz5-jJi"
      },
      "source": [
        "#Importing all the necessary libraries\n",
        "import matplotlib.pyplot as plt\n",
        "import networkx as nx\n",
        "import random\n",
        "import numpy as np\n",
        "import time"
      ],
      "execution_count": 1,
      "outputs": []
    },
    {
      "cell_type": "markdown",
      "metadata": {
        "id": "yd9yR33M_xE3"
      },
      "source": [
        ""
      ]
    },
    {
      "cell_type": "code",
      "metadata": {
        "id": "87FKVKp9_Go1"
      },
      "source": [
        "#Susceptible State\n",
        "Susceptible = np.array([[1, 0],\n",
        "                        [0, 1]])\n",
        "\n",
        "#Exposed State\n",
        "Exposed = np.array([[1, 1],\n",
        "                    [0, 0]])\n",
        "\n",
        "#Infected State\n",
        "Infected = np.array([[1, 1],\n",
        "                    [0, 0]])\n",
        "\n",
        "#Recovered State\n",
        "Recovered = np.array([[0, 0],\n",
        "                      [0, 0]])\n",
        "\n",
        "#vertex generator generates each individual with their properties\n",
        "def gen_vertex(n):\n",
        "    ver_list=[]\n",
        "    c=0\n",
        "\n",
        "    for i in range(n):\n",
        "      vertex = {\n",
        "                'index': c, \t\t\t# the unique index of the voter\n",
        "                'state' : Susceptible, \n",
        "                'connected': []   # the small world connections between the individuals\n",
        "                }\n",
        "      ver_list.append(vertex)\n",
        "      c+=1\n",
        "    return ver_list\n",
        "\n",
        "#Generating the Small World Network\n",
        "def gen_graph(n, k, p):\n",
        "   population = gen_vertex(n)\n",
        "   G = nx.watts_strogatz_graph(n, k, p, seed=10)\n",
        "   neighbor = []\n",
        "   for node in list(sorted(G.nodes())):\n",
        "   \tneighbours = list(nx.all_neighbors(G, node))\n",
        "   \tneighbor.append(neighbours)\n",
        "   for i in range(n):\n",
        "   \tpopulation[i]['connected']=neighbor[i]\n",
        "   #print(conlist)\n",
        "   return population\n",
        "\n",
        "#this is to expose n individuals from the population to the virus\n",
        "#1/5th of the exposed individuals will be infected in random\n",
        "def expose_population(n, population):\n",
        "  inf_list = []\n",
        "  limit = len(population)-1\n",
        "  for i in range(n):\n",
        "    index = random.randint(0, limit)\n",
        "    inf_list.append(index)\n",
        "    population[index]['state'] = Exposed\n",
        "  return population, inf_list"
      ],
      "execution_count": null,
      "outputs": []
    },
    {
      "cell_type": "markdown",
      "metadata": {
        "id": "FcPsznZr_wcl"
      },
      "source": [
        ""
      ]
    },
    {
      "cell_type": "code",
      "metadata": {
        "id": "Chuh4U61_Gj6"
      },
      "source": [
        "#n neighbour testing\n",
        "def n_neighbor_testing(pop, tpm, infected):\n",
        "  numbers = len(infected)\n",
        "  test = int((tpm*numbers)/1000000)\n",
        "  for i in range(test):\n",
        "    index = random.randint(0, numbers - 1)\n",
        "    pop[index]['state'] = Recovered\n",
        "    for neighbor in pop[index]['connected']:\n",
        "      if np.array_equal(pop[neighbor]['state'],Exposed):\n",
        "        pop[neighbor]['state'] = Recovered\n",
        "  return pop\n",
        "\n"
      ],
      "execution_count": null,
      "outputs": []
    },
    {
      "cell_type": "markdown",
      "metadata": {
        "id": "h74YmsQq_wB5"
      },
      "source": [
        ""
      ]
    },
    {
      "cell_type": "code",
      "metadata": {
        "id": "jSFGAZG3_Gff"
      },
      "source": [
        "def days(pop, tpm):\n",
        "  list_S = [] #list for Susceptible Individuals\n",
        "  list_E = [] #list for Exposed Individuals\n",
        "  list_I = [] #list for Infected Individuals\n",
        "  list_R = [] #list for Recovered Individuals\n",
        "\n",
        "  #Adding person to the respective lists based on their status\n",
        "  for person in pop:\n",
        "    state = person['state']\n",
        "    if np.array_equal(state, Susceptible):\n",
        "      list_S.append(person['index'])\n",
        "    elif np.array_equal(state, Exposed):\n",
        "      list_E.append(person['index'])\n",
        "    elif np.array_equal(state,Recovered):\n",
        "      list_R.append(person['index'])\n",
        "\n",
        "\n",
        "  #print(list_S)\n",
        "  #print(list_E)\n",
        "  #print(list_R)\n",
        "  #print(list_I)\n",
        "\n",
        "\n",
        "\n",
        "  #Infecting 1/5th of exposed population\n",
        "  ex_num = len(list_E)\n",
        "  num = int(ex_num/5)\n",
        "  for i in range(num):\n",
        "    r = random.randint(0,ex_num-1)\n",
        "    list_I.append(list_E[r])\n",
        "    list_E.pop(r)\n",
        "    ex_num = len(list_E)\n",
        "\n",
        "\n",
        "  #print(pop[:20])\n",
        "\n",
        "  #Spreading the Virus\n",
        "  for i in list_I:\n",
        "    friends = pop[i]['connected']  \n",
        "    for contacts in friends:\n",
        "      A = pop[contacts]['state']\n",
        "      B = pop[i]['state']\n",
        "      pop[contacts]['state'] = B.dot(A)\n",
        "\n",
        "  #print(pop[:20])\n",
        "\n",
        "  #Removing the duplicates from the list\n",
        "  list_S = list(dict.fromkeys(list_S))\n",
        "  list_E = list(dict.fromkeys(list_E))\n",
        "  list_I = list(dict.fromkeys(list_I))\n",
        "  list_R = list(dict.fromkeys(list_R))\n",
        "\n",
        "  #testing the population\n",
        "  pop = random_testing(pop, tpm)\n",
        "  #pop = targeted_testing(pop,tpm,list_I)\n",
        "  #pop = n_neighbor_testing(pop, tpm, list_I)\n",
        "\n",
        "  return (pop, list_S, list_E, list_I, list_R)"
      ],
      "execution_count": null,
      "outputs": []
    },
    {
      "cell_type": "markdown",
      "metadata": {
        "id": "MM4iAQMk_vUX"
      },
      "source": [
        ""
      ]
    },
    {
      "cell_type": "code",
      "metadata": {
        "id": "yCMwrpQ-_Gar"
      },
      "source": [
        "population_size = 50 #int(input(\"Size of population : \"))\n",
        "\n",
        "k = int(input(\"\\nk nearest neighbors : \"))\n",
        "\n",
        "p = float(input(\"\\nProbablity of the contacts : \"))\n",
        "\n",
        "tpm = int(input(\"\\nTests per million population : \"))\n",
        "\n",
        "iterations = int(input(\"\\nNumber of days the model to run : \"))\n",
        "\n",
        "\n",
        "#Generating the small world network\n",
        "population = gen_graph( population_size, k, p)\n",
        "\n",
        "#Exposing the population\n",
        "#li is the list of the first round of exposed population\n",
        "population,li = expose_population(50, population)\n",
        "\n",
        "\n",
        "#Number of days the simulation need to run\n",
        "count = np.arange(iterations)\n",
        "\n",
        "\n",
        "# List to contain the current data\n",
        "susp = []\n",
        "expo = []\n",
        "infe = []\n",
        "reco = []\n",
        "\n",
        "# List of lists to contain all data per day\n",
        "susp_all = []\n",
        "expo_all = []\n",
        "infe_all = []\n",
        "reco_all = []\n",
        "\n",
        "#Lists for animation\n",
        "\n",
        "colors = []\n",
        "\n",
        "elapsed = 0\n",
        "# Running the days simulation for given number of days\n",
        "for j in range (iterations):\n",
        "\tinter = []\n",
        "\ttic = time.time()\n",
        "\tpopulation, sus, exp, inf, rec = days(population, tpm)\n",
        "\tsusp.append(len(sus)) #Count of suspected persons per day\n",
        "\texpo.append(len(exp)-len(inf)) #Count of exposed persons per day\n",
        "\tinfe.append(len(inf)) #Count of infected persons per day\n",
        "\treco.append(len(rec)) #Count of recovered persons per day\n",
        "\ttoc = time.time()\n",
        "\tone_day = toc - tic\n",
        "\telapsed += one_day  \n",
        "\testimate = (iterations * one_day) - (j * one_day)\n",
        "#\tprint(\"Doing \",j,\"th iteration. Time :\",\"{:.2f}\".format(one_day),\n",
        "#\t      \"secs. Elapsed time :\",\"{:.2f}\".format(elapsed),\"secs. Estimated : \",\"{:.2f}\".format(estimate),\"secs\")\n",
        "\n",
        "\t'''#These lists are for future use of the codebase\n",
        "\treco_all.append(rec)  #Index of recovered persons day by day\n",
        "\tsusp_all.append(sus)  #Index of susceptible persons day by day\n",
        "\texpo_all.append(exp)  #Index of exposed persons day by day\n",
        "\tinfe_all.append(inf)  #Index of infected actors day by day'''\n",
        "\n",
        "\t#This is for the animation part\n",
        "\tfor i in sus:\n",
        "\t\tinter.insert(i,1)\n",
        "\tfor i in exp:\n",
        "\t\tinter.insert(i,2)\n",
        "\tfor i in inf:\n",
        "\t\tinter.insert(i,2)\n",
        "\tfor i in rec:\n",
        "\t\tinter.insert(i,2)\n",
        "\tclip = len(inter)\n",
        "\tdel inter[100:clip]\n",
        "\ttemp = np.array(inter)\n",
        "\tcolors.append(temp)\n",
        "\n",
        "\n",
        "node_colors = np.array(colors)\n",
        "\n",
        "plt.plot(count, susp, color='b', label = \"Susceptible\")\n",
        "plt.plot(count, expo, color='y', label = \"Exposed\")\n",
        "plt.plot(count, infe, color='r', label = \"Infected\")\n",
        "plt.plot(count, reco, color='g', label = \"Recovered\")\n",
        "plt.legend()\n",
        "plt.show()\n"
      ],
      "execution_count": null,
      "outputs": []
    },
    {
      "cell_type": "markdown",
      "metadata": {
        "id": "6olQSK30_uVL"
      },
      "source": [
        ""
      ]
    },
    {
      "cell_type": "code",
      "metadata": {
        "id": "KcncK0ub_GVM"
      },
      "source": [
        "#This needs to be fixed\n",
        "pop = widgets.IntSlider(value=5000, \n",
        "                      description='population size', \n",
        "                      max=100000, \n",
        "                      min=10000,\n",
        "                      step=10000) #population_size\n",
        "k = widgets.IntSlider(value=10, \n",
        "                      description='nearest neighbors', \n",
        "                      max=100, \n",
        "                      min=0,\n",
        "                      step=5) #nearest neighbor\n",
        "p = widgets.FloatSlider(value=0.5,\n",
        "                        description='probability', \n",
        "                        max=1, \n",
        "                        min=0, \n",
        "                        step=0.1) #probability\n",
        "iter = widgets.IntSlider(value=100, \n",
        "                               description='days', \n",
        "                               max=600, \n",
        "                               min=0, \n",
        "                               step=20)\n",
        "tpm = widgets.IntSlider(value=1000,\n",
        "                        description='test per million',\n",
        "                        max=100000,\n",
        "                        min=1000,\n",
        "                        step=1000)\n",
        "ex = widgets.IntSlider(value=50,\n",
        "                       description='initial exposed',\n",
        "                       max=500,\n",
        "                       min=10,\n",
        "                       step=10)\n",
        "\n",
        "\n",
        "def simulation(pop,k,p,iter,tpm,ex):\n",
        "    #Generating the small world network\n",
        "    population = gen_graph(pop, k, p)\n",
        "\n",
        "    #Exposing the population\n",
        "    #li is the list of the first round of exposed population\n",
        "    population,li = expose_population(ex, population)\n",
        "\n",
        "\n",
        "    #Number of days the simulation need to run\n",
        "    count = np.arange(iter)\n",
        "\n",
        "\n",
        "    # List to contain the current data\n",
        "    susp = []\n",
        "    expo = []\n",
        "    infe = []\n",
        "    reco = []\n",
        "    dead = []\n",
        "\n",
        "\n",
        "    elapsed = 0\n",
        "    # Running the days simulation for given number of days\n",
        "    for j in range (iter):\n",
        "      inter = []\n",
        "      tic = time.time()\n",
        "      population, sus, exp, inf, rec, ded = days(population, tpm)\n",
        "      susp.append(len(sus)) #Count of suspected persons per day\n",
        "      expo.append(len(exp)) #Count of exposed persons per day\n",
        "      infe.append(len(inf)) #Count of infected persons per day\n",
        "      reco.append(len(rec)) #Count of recovered persons per day\n",
        "      dead.append(len(ded))\n",
        "      toc = time.time()\n",
        "      one_day = toc - tic\n",
        "      elapsed += one_day\n",
        "      estimated = elapsed*(iter-j)\n",
        "      remaining = (iter * one_day) - (j * one_day)\n",
        "      #print(\"Doing \",j,\"th iteration. Time :\",\"{:.2f}\".format(one_day),\n",
        "       #     \"secs. Elapsed time :\",\"{:.2f}\".format(elapsed),\"secs. Remaining : \",\"{:.2f}\".format(remaining),\"secs\")\n",
        "    #progress_bar(estimated,elapsed)\n",
        "    \n",
        "    plt.figure(figsize=(20,10))\n",
        "    plt.plot(count, susp, color='b', label = \"Susceptible\")\n",
        "    plt.plot(count, expo, color='y', label = \"Exposed\")\n",
        "    plt.plot(count, infe, color='r', label = \"Infected\")\n",
        "    plt.plot(count, reco, color='g', label = \"Recovered\")\n",
        "    plt.plot(count, dead, color='k', label = \"Dead\")\n",
        "    label = \"Probability = \"+str(p)+\". Nearest Neigbours = \"+str(k)+\".\"\n",
        "    plt.title(label, fontdict=None, loc='center', pad=None)\n",
        "    plt.legend()\n",
        "    return()\n",
        "ui = widgets.HBox([pop,k,p,iter,tpm,ex])\n",
        "out = widgets.interactive_output(simulation, {'pop':pop,'k':k,'p':p,'iter':iter,'tpm':tpm,'ex':ex})\n",
        "\n",
        "display(ui, out)"
      ],
      "execution_count": null,
      "outputs": []
    },
    {
      "cell_type": "code",
      "metadata": {
        "id": "lLv0KLq6_GO1"
      },
      "source": [
        ""
      ],
      "execution_count": null,
      "outputs": []
    },
    {
      "cell_type": "code",
      "metadata": {
        "id": "BmbkFweA_GGr"
      },
      "source": [
        ""
      ],
      "execution_count": null,
      "outputs": []
    }
  ]
}