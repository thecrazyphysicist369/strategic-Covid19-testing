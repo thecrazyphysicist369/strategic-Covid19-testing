{
  "nbformat": 4,
  "nbformat_minor": 0,
  "metadata": {
    "colab": {
      "name": "v1_Random Testing.ipynb",
      "provenance": [],
      "authorship_tag": "ABX9TyMkNPiI9QpyTIexp8vYQXtz",
      "include_colab_link": true
    },
    "kernelspec": {
      "name": "python3",
      "display_name": "Python 3"
    }
  },
  "cells": [
    {
      "cell_type": "markdown",
      "metadata": {
        "id": "view-in-github",
        "colab_type": "text"
      },
      "source": [
        "<a href=\"https://colab.research.google.com/github/thecrazyphysicist369/strategic-Covid19-testing/blob/main/version_1/v1_Random_Testing.ipynb\" target=\"_parent\"><img src=\"https://colab.research.google.com/assets/colab-badge.svg\" alt=\"Open In Colab\"/></a>"
      ]
    },
    {
      "cell_type": "markdown",
      "metadata": {
        "id": "r8S6IZ93xny-"
      },
      "source": [
        ""
      ]
    },
    {
      "cell_type": "code",
      "metadata": {
        "id": "zpcDaqy7w3bH"
      },
      "source": [
        "#Importing all the necessary libraries\n",
        "import matplotlib.pyplot as plt\n",
        "import networkx as nx\n",
        "import random\n",
        "import numpy as np\n",
        "import time"
      ],
      "execution_count": null,
      "outputs": []
    },
    {
      "cell_type": "markdown",
      "metadata": {
        "id": "eLDv16M0xoRx"
      },
      "source": [
        ""
      ]
    },
    {
      "cell_type": "code",
      "metadata": {
        "id": "lshLRJDcxosH"
      },
      "source": [
        "#Susceptible State\n",
        "Susceptible = np.array([[1, 0],\n",
        "                        [0, 1]])\n",
        "\n",
        "#Exposed State\n",
        "Exposed = np.array([[1, 1],\n",
        "                    [0, 0]])\n",
        "\n",
        "#Infected State\n",
        "Infected = np.array([[1, 1],\n",
        "                    [0, 0]])\n",
        "\n",
        "#Recovered State\n",
        "Recovered = np.array([[0, 0],\n",
        "                      [0, 0]])\n",
        "\n",
        "#vertex generator generates each individual with their properties\n",
        "def gen_vertex(n):\n",
        "    ver_list=[]\n",
        "    c=0\n",
        "\n",
        "    for i in range(n):\n",
        "      vertex = {\n",
        "                'index': c, \t\t\t# the unique index of the voter\n",
        "                'state' : Susceptible, \n",
        "                'connected': []   # the small world connections between the individuals\n",
        "                }\n",
        "      ver_list.append(vertex)\n",
        "      c+=1\n",
        "    return ver_list\n",
        "\n",
        "#Generating the Small World Network\n",
        "def gen_graph(n, k, p):\n",
        "   population = gen_vertex(n)\n",
        "   G = nx.watts_strogatz_graph(n, k, p, seed=10)\n",
        "   neighbor = []\n",
        "   for node in list(sorted(G.nodes())):\n",
        "   \tneighbours = list(nx.all_neighbors(G, node))\n",
        "   \tneighbor.append(neighbours)\n",
        "   for i in range(n):\n",
        "   \tpopulation[i]['connected']=neighbor[i]\n",
        "   #print(conlist)\n",
        "   return population\n",
        "\n",
        "#this is to expose n individuals from the population to the virus\n",
        "#1/5th of the exposed individuals will be infected in random\n",
        "def expose_population(n, population):\n",
        "  inf_list = []\n",
        "  limit = len(population)-1\n",
        "  for i in range(n):\n",
        "    index = random.randint(0, limit)\n",
        "    inf_list.append(index)\n",
        "    population[index]['state'] = Exposed\n",
        "  return population, inf_list"
      ],
      "execution_count": null,
      "outputs": []
    },
    {
      "cell_type": "markdown",
      "metadata": {
        "id": "zegHO_RSxyqr"
      },
      "source": [
        ""
      ]
    },
    {
      "cell_type": "code",
      "metadata": {
        "id": "wQHVL-5GxzEI"
      },
      "source": [
        "#random testing\n",
        "def random_testing(pop, tpm): #pop = population; tpm = tests per million\n",
        "  numbers = len(pop) # total population\n",
        "  test = int((tpm * numbers)/1000000) # number of tests that is needed to be done\n",
        "  for i in range(test): \n",
        "    index = random.randint(0, numbers - 1)\n",
        "    if np.array_equal(pop[index]['state'], Exposed):\n",
        "      pop[index]['state'] = Recovered\n",
        "  return pop\n"
      ],
      "execution_count": null,
      "outputs": []
    },
    {
      "cell_type": "code",
      "metadata": {
        "id": "I98vV6zCx6Tj"
      },
      "source": [
        "def days(pop, tpm):\n",
        "  list_S = [] #list for Susceptible Individuals\n",
        "  list_E = [] #list for Exposed Individuals\n",
        "  list_I = [] #list for Infected Individuals\n",
        "  list_R = [] #list for Recovered Individuals\n",
        "\n",
        "  #Adding person to the respective lists based on their status\n",
        "  for person in pop:\n",
        "    state = person['state']\n",
        "    if np.array_equal(state, Susceptible):\n",
        "      list_S.append(person['index'])\n",
        "    elif np.array_equal(state, Exposed):\n",
        "      list_E.append(person['index'])\n",
        "    elif np.array_equal(state,Recovered):\n",
        "      list_R.append(person['index'])\n",
        "\n",
        "\n",
        "  #print(list_S)\n",
        "  #print(list_E)\n",
        "  #print(list_R)\n",
        "  #print(list_I)\n",
        "\n",
        "\n",
        "\n",
        "  #Infecting 1/5th of exposed population\n",
        "  ex_num = len(list_E)\n",
        "  num = int(ex_num/5)\n",
        "  for i in range(num):\n",
        "    r = random.randint(0,ex_num-1)\n",
        "    list_I.append(list_E[r])\n",
        "    list_E.pop(r)\n",
        "    ex_num = len(list_E)\n",
        "\n",
        "\n",
        "  #print(pop[:20])\n",
        "\n",
        "  #Spreading the Virus\n",
        "  for i in list_I:\n",
        "    friends = pop[i]['connected']  \n",
        "    for contacts in friends:\n",
        "      A = pop[contacts]['state']\n",
        "      B = pop[i]['state']\n",
        "      pop[contacts]['state'] = B.dot(A)\n",
        "\n",
        "  #print(pop[:20])\n",
        "\n",
        "  #Removing the duplicates from the list\n",
        "  list_S = list(dict.fromkeys(list_S))\n",
        "  list_E = list(dict.fromkeys(list_E))\n",
        "  list_I = list(dict.fromkeys(list_I))\n",
        "  list_R = list(dict.fromkeys(list_R))\n",
        "\n",
        "  #testing the population\n",
        "  pop = random_testing(pop, tpm)\n",
        "\n",
        "\n",
        "  return (pop, list_S, list_E, list_I, list_R)"
      ],
      "execution_count": null,
      "outputs": []
    },
    {
      "cell_type": "markdown",
      "metadata": {
        "id": "7pvbyxlWx8nu"
      },
      "source": [
        "#Simulation with Input Values"
      ]
    },
    {
      "cell_type": "code",
      "metadata": {
        "id": "U1eQA6L2x87L",
        "colab": {
          "base_uri": "https://localhost:8080/",
          "height": 527
        },
        "outputId": "75166891-a66b-4741-c345-bfa3f65fcd0b"
      },
      "source": [
        ""
      ],
      "execution_count": null,
      "outputs": [
        {
          "output_type": "error",
          "ename": "KeyboardInterrupt",
          "evalue": "ignored",
          "traceback": [
            "\u001b[0;31m---------------------------------------------------------------------------\u001b[0m",
            "\u001b[0;31mKeyboardInterrupt\u001b[0m                         Traceback (most recent call last)",
            "\u001b[0;32m/usr/local/lib/python3.7/dist-packages/ipykernel/kernelbase.py\u001b[0m in \u001b[0;36m_input_request\u001b[0;34m(self, prompt, ident, parent, password)\u001b[0m\n\u001b[1;32m    728\u001b[0m             \u001b[0;32mtry\u001b[0m\u001b[0;34m:\u001b[0m\u001b[0;34m\u001b[0m\u001b[0;34m\u001b[0m\u001b[0m\n\u001b[0;32m--> 729\u001b[0;31m                 \u001b[0mident\u001b[0m\u001b[0;34m,\u001b[0m \u001b[0mreply\u001b[0m \u001b[0;34m=\u001b[0m \u001b[0mself\u001b[0m\u001b[0;34m.\u001b[0m\u001b[0msession\u001b[0m\u001b[0;34m.\u001b[0m\u001b[0mrecv\u001b[0m\u001b[0;34m(\u001b[0m\u001b[0mself\u001b[0m\u001b[0;34m.\u001b[0m\u001b[0mstdin_socket\u001b[0m\u001b[0;34m,\u001b[0m \u001b[0;36m0\u001b[0m\u001b[0;34m)\u001b[0m\u001b[0;34m\u001b[0m\u001b[0;34m\u001b[0m\u001b[0m\n\u001b[0m\u001b[1;32m    730\u001b[0m             \u001b[0;32mexcept\u001b[0m \u001b[0mException\u001b[0m\u001b[0;34m:\u001b[0m\u001b[0;34m\u001b[0m\u001b[0;34m\u001b[0m\u001b[0m\n",
            "\u001b[0;32m/usr/local/lib/python3.7/dist-packages/jupyter_client/session.py\u001b[0m in \u001b[0;36mrecv\u001b[0;34m(self, socket, mode, content, copy)\u001b[0m\n\u001b[1;32m    802\u001b[0m         \u001b[0;32mtry\u001b[0m\u001b[0;34m:\u001b[0m\u001b[0;34m\u001b[0m\u001b[0;34m\u001b[0m\u001b[0m\n\u001b[0;32m--> 803\u001b[0;31m             \u001b[0mmsg_list\u001b[0m \u001b[0;34m=\u001b[0m \u001b[0msocket\u001b[0m\u001b[0;34m.\u001b[0m\u001b[0mrecv_multipart\u001b[0m\u001b[0;34m(\u001b[0m\u001b[0mmode\u001b[0m\u001b[0;34m,\u001b[0m \u001b[0mcopy\u001b[0m\u001b[0;34m=\u001b[0m\u001b[0mcopy\u001b[0m\u001b[0;34m)\u001b[0m\u001b[0;34m\u001b[0m\u001b[0;34m\u001b[0m\u001b[0m\n\u001b[0m\u001b[1;32m    804\u001b[0m         \u001b[0;32mexcept\u001b[0m \u001b[0mzmq\u001b[0m\u001b[0;34m.\u001b[0m\u001b[0mZMQError\u001b[0m \u001b[0;32mas\u001b[0m \u001b[0me\u001b[0m\u001b[0;34m:\u001b[0m\u001b[0;34m\u001b[0m\u001b[0;34m\u001b[0m\u001b[0m\n",
            "\u001b[0;32m/usr/local/lib/python3.7/dist-packages/zmq/sugar/socket.py\u001b[0m in \u001b[0;36mrecv_multipart\u001b[0;34m(self, flags, copy, track)\u001b[0m\n\u001b[1;32m    582\u001b[0m         \"\"\"\n\u001b[0;32m--> 583\u001b[0;31m         \u001b[0mparts\u001b[0m \u001b[0;34m=\u001b[0m \u001b[0;34m[\u001b[0m\u001b[0mself\u001b[0m\u001b[0;34m.\u001b[0m\u001b[0mrecv\u001b[0m\u001b[0;34m(\u001b[0m\u001b[0mflags\u001b[0m\u001b[0;34m,\u001b[0m \u001b[0mcopy\u001b[0m\u001b[0;34m=\u001b[0m\u001b[0mcopy\u001b[0m\u001b[0;34m,\u001b[0m \u001b[0mtrack\u001b[0m\u001b[0;34m=\u001b[0m\u001b[0mtrack\u001b[0m\u001b[0;34m)\u001b[0m\u001b[0;34m]\u001b[0m\u001b[0;34m\u001b[0m\u001b[0;34m\u001b[0m\u001b[0m\n\u001b[0m\u001b[1;32m    584\u001b[0m         \u001b[0;31m# have first part already, only loop while more to receive\u001b[0m\u001b[0;34m\u001b[0m\u001b[0;34m\u001b[0m\u001b[0;34m\u001b[0m\u001b[0m\n",
            "\u001b[0;32mzmq/backend/cython/socket.pyx\u001b[0m in \u001b[0;36mzmq.backend.cython.socket.Socket.recv\u001b[0;34m()\u001b[0m\n",
            "\u001b[0;32mzmq/backend/cython/socket.pyx\u001b[0m in \u001b[0;36mzmq.backend.cython.socket.Socket.recv\u001b[0;34m()\u001b[0m\n",
            "\u001b[0;32mzmq/backend/cython/socket.pyx\u001b[0m in \u001b[0;36mzmq.backend.cython.socket._recv_copy\u001b[0;34m()\u001b[0m\n",
            "\u001b[0;32m/usr/local/lib/python3.7/dist-packages/zmq/backend/cython/checkrc.pxd\u001b[0m in \u001b[0;36mzmq.backend.cython.checkrc._check_rc\u001b[0;34m()\u001b[0m\n",
            "\u001b[0;31mKeyboardInterrupt\u001b[0m: ",
            "\nDuring handling of the above exception, another exception occurred:\n",
            "\u001b[0;31mKeyboardInterrupt\u001b[0m                         Traceback (most recent call last)",
            "\u001b[0;32m<ipython-input-5-4e536ac6aef0>\u001b[0m in \u001b[0;36m<module>\u001b[0;34m()\u001b[0m\n\u001b[1;32m      1\u001b[0m \u001b[0mpopulation_size\u001b[0m \u001b[0;34m=\u001b[0m \u001b[0;36m50\u001b[0m \u001b[0;31m#int(input(\"Size of population : \"))\u001b[0m\u001b[0;34m\u001b[0m\u001b[0;34m\u001b[0m\u001b[0m\n\u001b[1;32m      2\u001b[0m \u001b[0;34m\u001b[0m\u001b[0m\n\u001b[0;32m----> 3\u001b[0;31m \u001b[0mk\u001b[0m \u001b[0;34m=\u001b[0m \u001b[0mint\u001b[0m\u001b[0;34m(\u001b[0m\u001b[0minput\u001b[0m\u001b[0;34m(\u001b[0m\u001b[0;34m\"\\nk nearest neighbors : \"\u001b[0m\u001b[0;34m)\u001b[0m\u001b[0;34m)\u001b[0m\u001b[0;34m\u001b[0m\u001b[0;34m\u001b[0m\u001b[0m\n\u001b[0m\u001b[1;32m      4\u001b[0m \u001b[0;34m\u001b[0m\u001b[0m\n\u001b[1;32m      5\u001b[0m \u001b[0mp\u001b[0m \u001b[0;34m=\u001b[0m \u001b[0mfloat\u001b[0m\u001b[0;34m(\u001b[0m\u001b[0minput\u001b[0m\u001b[0;34m(\u001b[0m\u001b[0;34m\"\\nProbablity of the contacts : \"\u001b[0m\u001b[0;34m)\u001b[0m\u001b[0;34m)\u001b[0m\u001b[0;34m\u001b[0m\u001b[0;34m\u001b[0m\u001b[0m\n",
            "\u001b[0;32m/usr/local/lib/python3.7/dist-packages/ipykernel/kernelbase.py\u001b[0m in \u001b[0;36mraw_input\u001b[0;34m(self, prompt)\u001b[0m\n\u001b[1;32m    702\u001b[0m             \u001b[0mself\u001b[0m\u001b[0;34m.\u001b[0m\u001b[0m_parent_ident\u001b[0m\u001b[0;34m,\u001b[0m\u001b[0;34m\u001b[0m\u001b[0;34m\u001b[0m\u001b[0m\n\u001b[1;32m    703\u001b[0m             \u001b[0mself\u001b[0m\u001b[0;34m.\u001b[0m\u001b[0m_parent_header\u001b[0m\u001b[0;34m,\u001b[0m\u001b[0;34m\u001b[0m\u001b[0;34m\u001b[0m\u001b[0m\n\u001b[0;32m--> 704\u001b[0;31m             \u001b[0mpassword\u001b[0m\u001b[0;34m=\u001b[0m\u001b[0;32mFalse\u001b[0m\u001b[0;34m,\u001b[0m\u001b[0;34m\u001b[0m\u001b[0;34m\u001b[0m\u001b[0m\n\u001b[0m\u001b[1;32m    705\u001b[0m         )\n\u001b[1;32m    706\u001b[0m \u001b[0;34m\u001b[0m\u001b[0m\n",
            "\u001b[0;32m/usr/local/lib/python3.7/dist-packages/ipykernel/kernelbase.py\u001b[0m in \u001b[0;36m_input_request\u001b[0;34m(self, prompt, ident, parent, password)\u001b[0m\n\u001b[1;32m    732\u001b[0m             \u001b[0;32mexcept\u001b[0m \u001b[0mKeyboardInterrupt\u001b[0m\u001b[0;34m:\u001b[0m\u001b[0;34m\u001b[0m\u001b[0;34m\u001b[0m\u001b[0m\n\u001b[1;32m    733\u001b[0m                 \u001b[0;31m# re-raise KeyboardInterrupt, to truncate traceback\u001b[0m\u001b[0;34m\u001b[0m\u001b[0;34m\u001b[0m\u001b[0;34m\u001b[0m\u001b[0m\n\u001b[0;32m--> 734\u001b[0;31m                 \u001b[0;32mraise\u001b[0m \u001b[0mKeyboardInterrupt\u001b[0m\u001b[0;34m\u001b[0m\u001b[0;34m\u001b[0m\u001b[0m\n\u001b[0m\u001b[1;32m    735\u001b[0m             \u001b[0;32melse\u001b[0m\u001b[0;34m:\u001b[0m\u001b[0;34m\u001b[0m\u001b[0;34m\u001b[0m\u001b[0m\n\u001b[1;32m    736\u001b[0m                 \u001b[0;32mbreak\u001b[0m\u001b[0;34m\u001b[0m\u001b[0;34m\u001b[0m\u001b[0m\n",
            "\u001b[0;31mKeyboardInterrupt\u001b[0m: "
          ]
        }
      ]
    },
    {
      "cell_type": "markdown",
      "metadata": {
        "id": "h75D6165yKkd"
      },
      "source": [
        "#Simulation with Sliders"
      ]
    },
    {
      "cell_type": "code",
      "metadata": {
        "id": "p31kFmbIyLUc",
        "colab": {
          "base_uri": "https://localhost:8080/",
          "height": 231
        },
        "outputId": "1e1119fc-9456-4ab7-d674-4ce083b496c6"
      },
      "source": [
        "#This needs to be fixed\n",
        "pop = widgets.IntSlider(value=5000, \n",
        "                      description='population size', \n",
        "                      max=100000, \n",
        "                      min=10000,\n",
        "                      step=10000) #population_size\n",
        "k = widgets.IntSlider(value=10, \n",
        "                      description='nearest neighbors', \n",
        "                      max=100, \n",
        "                      min=0,\n",
        "                      step=5) #nearest neighbor\n",
        "p = widgets.FloatSlider(value=0.5,\n",
        "                        description='probability', \n",
        "                        max=1, \n",
        "                        min=0, \n",
        "                        step=0.1) #probability\n",
        "iter = widgets.IntSlider(value=100, \n",
        "                               description='days', \n",
        "                               max=600, \n",
        "                               min=0, \n",
        "                               step=20)\n",
        "tpm = widgets.IntSlider(value=1000,\n",
        "                        description='test per million',\n",
        "                        max=100000,\n",
        "                        min=1000,\n",
        "                        step=1000)\n",
        "ex = widgets.IntSlider(value=50,\n",
        "                       description='initial exposed',\n",
        "                       max=500,\n",
        "                       min=10,\n",
        "                       step=10)\n",
        "\n",
        "\n",
        "def simulation(pop,k,p,iter,tpm,ex):\n",
        "    #Generating the small world network\n",
        "    population = gen_graph(pop, k, p)\n",
        "\n",
        "    #Exposing the population\n",
        "    #li is the list of the first round of exposed population\n",
        "    population,li = expose_population(ex, population)\n",
        "\n",
        "\n",
        "    #Number of days the simulation need to run\n",
        "    count = np.arange(iter)\n",
        "\n",
        "\n",
        "    # List to contain the current data\n",
        "    susp = []\n",
        "    expo = []\n",
        "    infe = []\n",
        "    reco = []\n",
        "    dead = []\n",
        "\n",
        "\n",
        "    elapsed = 0\n",
        "    # Running the days simulation for given number of days\n",
        "    for j in range (iter):\n",
        "      inter = []\n",
        "      tic = time.time()\n",
        "      population, sus, exp, inf, rec, ded = days(population, tpm)\n",
        "      susp.append(len(sus)) #Count of suspected persons per day\n",
        "      expo.append(len(exp)) #Count of exposed persons per day\n",
        "      infe.append(len(inf)) #Count of infected persons per day\n",
        "      reco.append(len(rec)) #Count of recovered persons per day\n",
        "      dead.append(len(ded))\n",
        "      toc = time.time()\n",
        "      one_day = toc - tic\n",
        "      elapsed += one_day\n",
        "      estimated = elapsed*(iter-j)\n",
        "      remaining = (iter * one_day) - (j * one_day)\n",
        "      #print(\"Doing \",j,\"th iteration. Time :\",\"{:.2f}\".format(one_day),\n",
        "       #     \"secs. Elapsed time :\",\"{:.2f}\".format(elapsed),\"secs. Remaining : \",\"{:.2f}\".format(remaining),\"secs\")\n",
        "    #progress_bar(estimated,elapsed)\n",
        "    \n",
        "    plt.figure(figsize=(20,10))\n",
        "    plt.plot(count, susp, color='b', label = \"Susceptible\")\n",
        "    plt.plot(count, expo, color='y', label = \"Exposed\")\n",
        "    plt.plot(count, infe, color='r', label = \"Infected\")\n",
        "    plt.plot(count, reco, color='g', label = \"Recovered\")\n",
        "    plt.plot(count, dead, color='k', label = \"Dead\")\n",
        "    label = \"Probability = \"+str(p)+\". Nearest Neigbours = \"+str(k)+\".\"\n",
        "    plt.title(label, fontdict=None, loc='center', pad=None)\n",
        "    plt.legend()\n",
        "    return()\n",
        "ui = widgets.HBox([pop,k,p,iter,tpm,ex])\n",
        "out = widgets.interactive_output(simulation, {'pop':pop,'k':k,'p':p,'iter':iter,'tpm':tpm,'ex':ex})\n",
        "\n",
        "display(ui, out)"
      ],
      "execution_count": null,
      "outputs": [
        {
          "output_type": "error",
          "ename": "NameError",
          "evalue": "ignored",
          "traceback": [
            "\u001b[0;31m---------------------------------------------------------------------------\u001b[0m",
            "\u001b[0;31mNameError\u001b[0m                                 Traceback (most recent call last)",
            "\u001b[0;32m<ipython-input-6-061bbf40428b>\u001b[0m in \u001b[0;36m<module>\u001b[0;34m()\u001b[0m\n\u001b[1;32m      1\u001b[0m \u001b[0;31m#This needs to be fixed\u001b[0m\u001b[0;34m\u001b[0m\u001b[0;34m\u001b[0m\u001b[0;34m\u001b[0m\u001b[0m\n\u001b[0;32m----> 2\u001b[0;31m pop = widgets.IntSlider(value=5000, \n\u001b[0m\u001b[1;32m      3\u001b[0m                       \u001b[0mdescription\u001b[0m\u001b[0;34m=\u001b[0m\u001b[0;34m'population size'\u001b[0m\u001b[0;34m,\u001b[0m\u001b[0;34m\u001b[0m\u001b[0;34m\u001b[0m\u001b[0m\n\u001b[1;32m      4\u001b[0m                       \u001b[0mmax\u001b[0m\u001b[0;34m=\u001b[0m\u001b[0;36m100000\u001b[0m\u001b[0;34m,\u001b[0m\u001b[0;34m\u001b[0m\u001b[0;34m\u001b[0m\u001b[0m\n\u001b[1;32m      5\u001b[0m                       \u001b[0mmin\u001b[0m\u001b[0;34m=\u001b[0m\u001b[0;36m10000\u001b[0m\u001b[0;34m,\u001b[0m\u001b[0;34m\u001b[0m\u001b[0;34m\u001b[0m\u001b[0m\n",
            "\u001b[0;31mNameError\u001b[0m: name 'widgets' is not defined"
          ]
        }
      ]
    }
  ]
}