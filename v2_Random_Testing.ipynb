{
  "nbformat": 4,
  "nbformat_minor": 0,
  "metadata": {
    "colab": {
      "name": "v2_Random Testing.ipynb",
      "provenance": [],
      "collapsed_sections": [],
      "authorship_tag": "ABX9TyNbuoiwh6+RrVf6aluk8LRc",
      "include_colab_link": true
    },
    "kernelspec": {
      "display_name": "Python 3",
      "name": "python3"
    },
    "widgets": {
      "application/vnd.jupyter.widget-state+json": {
        "33a8410bafb44607b61021798066872e": {
          "model_module": "@jupyter-widgets/controls",
          "model_name": "HBoxModel",
          "state": {
            "_view_name": "HBoxView",
            "_dom_classes": [],
            "_model_name": "HBoxModel",
            "_view_module": "@jupyter-widgets/controls",
            "_model_module_version": "1.5.0",
            "_view_count": null,
            "_view_module_version": "1.5.0",
            "box_style": "",
            "layout": "IPY_MODEL_86d50e31310448f1a1b8f6b46084b2a1",
            "_model_module": "@jupyter-widgets/controls",
            "children": [
              "IPY_MODEL_f482c0bb89374a6cad881885b7f5e35d",
              "IPY_MODEL_01e461f82b514def93437091a2bc0a52",
              "IPY_MODEL_81b062a9f389461aafc898e005c0f5bf",
              "IPY_MODEL_3269143adc204546974b18fca60e8aca",
              "IPY_MODEL_728263492c3348a882d267edb2cdc210",
              "IPY_MODEL_9e29a472a0694ba5b9bc7185592f922c"
            ]
          }
        },
        "86d50e31310448f1a1b8f6b46084b2a1": {
          "model_module": "@jupyter-widgets/base",
          "model_name": "LayoutModel",
          "state": {
            "_view_name": "LayoutView",
            "grid_template_rows": null,
            "right": null,
            "justify_content": null,
            "_view_module": "@jupyter-widgets/base",
            "overflow": null,
            "_model_module_version": "1.2.0",
            "_view_count": null,
            "flex_flow": null,
            "width": null,
            "min_width": null,
            "border": null,
            "align_items": null,
            "bottom": null,
            "_model_module": "@jupyter-widgets/base",
            "top": null,
            "grid_column": null,
            "overflow_y": null,
            "overflow_x": null,
            "grid_auto_flow": null,
            "grid_area": null,
            "grid_template_columns": null,
            "flex": null,
            "_model_name": "LayoutModel",
            "justify_items": null,
            "grid_row": null,
            "max_height": null,
            "align_content": null,
            "visibility": null,
            "align_self": null,
            "height": null,
            "min_height": null,
            "padding": null,
            "grid_auto_rows": null,
            "grid_gap": null,
            "max_width": null,
            "order": null,
            "_view_module_version": "1.2.0",
            "grid_template_areas": null,
            "object_position": null,
            "object_fit": null,
            "grid_auto_columns": null,
            "margin": null,
            "display": null,
            "left": null
          }
        },
        "f482c0bb89374a6cad881885b7f5e35d": {
          "model_module": "@jupyter-widgets/controls",
          "model_name": "IntSliderModel",
          "state": {
            "_view_name": "IntSliderView",
            "style": "IPY_MODEL_45a2ebe439474b1286743e1e805abbc0",
            "_dom_classes": [],
            "description": "population size",
            "step": 10000,
            "_model_name": "IntSliderModel",
            "orientation": "horizontal",
            "max": 100000,
            "_view_module": "@jupyter-widgets/controls",
            "_model_module_version": "1.5.0",
            "value": 10000,
            "_view_count": null,
            "disabled": false,
            "_view_module_version": "1.5.0",
            "min": 10000,
            "continuous_update": true,
            "readout_format": "d",
            "description_tooltip": null,
            "readout": true,
            "_model_module": "@jupyter-widgets/controls",
            "layout": "IPY_MODEL_b2c01b5b2c5c4571a4986bb94dcfe4f4"
          }
        },
        "01e461f82b514def93437091a2bc0a52": {
          "model_module": "@jupyter-widgets/controls",
          "model_name": "IntSliderModel",
          "state": {
            "_view_name": "IntSliderView",
            "style": "IPY_MODEL_9887d0c0d9164a05878a3d868aa66eff",
            "_dom_classes": [],
            "description": "nearest neighbors",
            "step": 5,
            "_model_name": "IntSliderModel",
            "orientation": "horizontal",
            "max": 100,
            "_view_module": "@jupyter-widgets/controls",
            "_model_module_version": "1.5.0",
            "value": 10,
            "_view_count": null,
            "disabled": false,
            "_view_module_version": "1.5.0",
            "min": 0,
            "continuous_update": true,
            "readout_format": "d",
            "description_tooltip": null,
            "readout": true,
            "_model_module": "@jupyter-widgets/controls",
            "layout": "IPY_MODEL_fd1848ed4a304db7ab2fd05dfbffc650"
          }
        },
        "81b062a9f389461aafc898e005c0f5bf": {
          "model_module": "@jupyter-widgets/controls",
          "model_name": "FloatSliderModel",
          "state": {
            "_view_name": "FloatSliderView",
            "style": "IPY_MODEL_7ea9ec3de86e41948ebc0bdd92456e43",
            "_dom_classes": [],
            "description": "probability",
            "step": 0.1,
            "_model_name": "FloatSliderModel",
            "orientation": "horizontal",
            "max": 1,
            "_view_module": "@jupyter-widgets/controls",
            "_model_module_version": "1.5.0",
            "value": 0.5,
            "_view_count": null,
            "disabled": false,
            "_view_module_version": "1.5.0",
            "min": 0,
            "continuous_update": true,
            "readout_format": ".2f",
            "description_tooltip": null,
            "readout": true,
            "_model_module": "@jupyter-widgets/controls",
            "layout": "IPY_MODEL_f5410f906e394ba8973100e0e22dc4be"
          }
        },
        "3269143adc204546974b18fca60e8aca": {
          "model_module": "@jupyter-widgets/controls",
          "model_name": "IntSliderModel",
          "state": {
            "_view_name": "IntSliderView",
            "style": "IPY_MODEL_664144b9586d4d4bb7268276a6b2f763",
            "_dom_classes": [],
            "description": "days",
            "step": 20,
            "_model_name": "IntSliderModel",
            "orientation": "horizontal",
            "max": 600,
            "_view_module": "@jupyter-widgets/controls",
            "_model_module_version": "1.5.0",
            "value": 100,
            "_view_count": null,
            "disabled": false,
            "_view_module_version": "1.5.0",
            "min": 0,
            "continuous_update": true,
            "readout_format": "d",
            "description_tooltip": null,
            "readout": true,
            "_model_module": "@jupyter-widgets/controls",
            "layout": "IPY_MODEL_5af2a41db679482e8322db2628363230"
          }
        },
        "728263492c3348a882d267edb2cdc210": {
          "model_module": "@jupyter-widgets/controls",
          "model_name": "IntSliderModel",
          "state": {
            "_view_name": "IntSliderView",
            "style": "IPY_MODEL_b560cdf684b245e18fd8d6e208e4a43c",
            "_dom_classes": [],
            "description": "test per million",
            "step": 1000,
            "_model_name": "IntSliderModel",
            "orientation": "horizontal",
            "max": 100000,
            "_view_module": "@jupyter-widgets/controls",
            "_model_module_version": "1.5.0",
            "value": 1000,
            "_view_count": null,
            "disabled": false,
            "_view_module_version": "1.5.0",
            "min": 1000,
            "continuous_update": true,
            "readout_format": "d",
            "description_tooltip": null,
            "readout": true,
            "_model_module": "@jupyter-widgets/controls",
            "layout": "IPY_MODEL_18c5f74dc9db4e9ca7d0f6577207cbb8"
          }
        },
        "9e29a472a0694ba5b9bc7185592f922c": {
          "model_module": "@jupyter-widgets/controls",
          "model_name": "IntSliderModel",
          "state": {
            "_view_name": "IntSliderView",
            "style": "IPY_MODEL_d24a5b09c00f4af6ba0401bf4159228d",
            "_dom_classes": [],
            "description": "initial exposed",
            "step": 10,
            "_model_name": "IntSliderModel",
            "orientation": "horizontal",
            "max": 500,
            "_view_module": "@jupyter-widgets/controls",
            "_model_module_version": "1.5.0",
            "value": 50,
            "_view_count": null,
            "disabled": false,
            "_view_module_version": "1.5.0",
            "min": 10,
            "continuous_update": true,
            "readout_format": "d",
            "description_tooltip": null,
            "readout": true,
            "_model_module": "@jupyter-widgets/controls",
            "layout": "IPY_MODEL_9172cf49b8e147abbc5be74e948d8423"
          }
        },
        "45a2ebe439474b1286743e1e805abbc0": {
          "model_module": "@jupyter-widgets/controls",
          "model_name": "SliderStyleModel",
          "state": {
            "_view_name": "StyleView",
            "handle_color": null,
            "_model_name": "SliderStyleModel",
            "description_width": "",
            "_view_module": "@jupyter-widgets/base",
            "_model_module_version": "1.5.0",
            "_view_count": null,
            "_view_module_version": "1.2.0",
            "_model_module": "@jupyter-widgets/controls"
          }
        },
        "b2c01b5b2c5c4571a4986bb94dcfe4f4": {
          "model_module": "@jupyter-widgets/base",
          "model_name": "LayoutModel",
          "state": {
            "_view_name": "LayoutView",
            "grid_template_rows": null,
            "right": null,
            "justify_content": null,
            "_view_module": "@jupyter-widgets/base",
            "overflow": null,
            "_model_module_version": "1.2.0",
            "_view_count": null,
            "flex_flow": null,
            "width": null,
            "min_width": null,
            "border": null,
            "align_items": null,
            "bottom": null,
            "_model_module": "@jupyter-widgets/base",
            "top": null,
            "grid_column": null,
            "overflow_y": null,
            "overflow_x": null,
            "grid_auto_flow": null,
            "grid_area": null,
            "grid_template_columns": null,
            "flex": null,
            "_model_name": "LayoutModel",
            "justify_items": null,
            "grid_row": null,
            "max_height": null,
            "align_content": null,
            "visibility": null,
            "align_self": null,
            "height": null,
            "min_height": null,
            "padding": null,
            "grid_auto_rows": null,
            "grid_gap": null,
            "max_width": null,
            "order": null,
            "_view_module_version": "1.2.0",
            "grid_template_areas": null,
            "object_position": null,
            "object_fit": null,
            "grid_auto_columns": null,
            "margin": null,
            "display": null,
            "left": null
          }
        },
        "9887d0c0d9164a05878a3d868aa66eff": {
          "model_module": "@jupyter-widgets/controls",
          "model_name": "SliderStyleModel",
          "state": {
            "_view_name": "StyleView",
            "handle_color": null,
            "_model_name": "SliderStyleModel",
            "description_width": "",
            "_view_module": "@jupyter-widgets/base",
            "_model_module_version": "1.5.0",
            "_view_count": null,
            "_view_module_version": "1.2.0",
            "_model_module": "@jupyter-widgets/controls"
          }
        },
        "fd1848ed4a304db7ab2fd05dfbffc650": {
          "model_module": "@jupyter-widgets/base",
          "model_name": "LayoutModel",
          "state": {
            "_view_name": "LayoutView",
            "grid_template_rows": null,
            "right": null,
            "justify_content": null,
            "_view_module": "@jupyter-widgets/base",
            "overflow": null,
            "_model_module_version": "1.2.0",
            "_view_count": null,
            "flex_flow": null,
            "width": null,
            "min_width": null,
            "border": null,
            "align_items": null,
            "bottom": null,
            "_model_module": "@jupyter-widgets/base",
            "top": null,
            "grid_column": null,
            "overflow_y": null,
            "overflow_x": null,
            "grid_auto_flow": null,
            "grid_area": null,
            "grid_template_columns": null,
            "flex": null,
            "_model_name": "LayoutModel",
            "justify_items": null,
            "grid_row": null,
            "max_height": null,
            "align_content": null,
            "visibility": null,
            "align_self": null,
            "height": null,
            "min_height": null,
            "padding": null,
            "grid_auto_rows": null,
            "grid_gap": null,
            "max_width": null,
            "order": null,
            "_view_module_version": "1.2.0",
            "grid_template_areas": null,
            "object_position": null,
            "object_fit": null,
            "grid_auto_columns": null,
            "margin": null,
            "display": null,
            "left": null
          }
        },
        "7ea9ec3de86e41948ebc0bdd92456e43": {
          "model_module": "@jupyter-widgets/controls",
          "model_name": "SliderStyleModel",
          "state": {
            "_view_name": "StyleView",
            "handle_color": null,
            "_model_name": "SliderStyleModel",
            "description_width": "",
            "_view_module": "@jupyter-widgets/base",
            "_model_module_version": "1.5.0",
            "_view_count": null,
            "_view_module_version": "1.2.0",
            "_model_module": "@jupyter-widgets/controls"
          }
        },
        "f5410f906e394ba8973100e0e22dc4be": {
          "model_module": "@jupyter-widgets/base",
          "model_name": "LayoutModel",
          "state": {
            "_view_name": "LayoutView",
            "grid_template_rows": null,
            "right": null,
            "justify_content": null,
            "_view_module": "@jupyter-widgets/base",
            "overflow": null,
            "_model_module_version": "1.2.0",
            "_view_count": null,
            "flex_flow": null,
            "width": null,
            "min_width": null,
            "border": null,
            "align_items": null,
            "bottom": null,
            "_model_module": "@jupyter-widgets/base",
            "top": null,
            "grid_column": null,
            "overflow_y": null,
            "overflow_x": null,
            "grid_auto_flow": null,
            "grid_area": null,
            "grid_template_columns": null,
            "flex": null,
            "_model_name": "LayoutModel",
            "justify_items": null,
            "grid_row": null,
            "max_height": null,
            "align_content": null,
            "visibility": null,
            "align_self": null,
            "height": null,
            "min_height": null,
            "padding": null,
            "grid_auto_rows": null,
            "grid_gap": null,
            "max_width": null,
            "order": null,
            "_view_module_version": "1.2.0",
            "grid_template_areas": null,
            "object_position": null,
            "object_fit": null,
            "grid_auto_columns": null,
            "margin": null,
            "display": null,
            "left": null
          }
        },
        "664144b9586d4d4bb7268276a6b2f763": {
          "model_module": "@jupyter-widgets/controls",
          "model_name": "SliderStyleModel",
          "state": {
            "_view_name": "StyleView",
            "handle_color": null,
            "_model_name": "SliderStyleModel",
            "description_width": "",
            "_view_module": "@jupyter-widgets/base",
            "_model_module_version": "1.5.0",
            "_view_count": null,
            "_view_module_version": "1.2.0",
            "_model_module": "@jupyter-widgets/controls"
          }
        },
        "5af2a41db679482e8322db2628363230": {
          "model_module": "@jupyter-widgets/base",
          "model_name": "LayoutModel",
          "state": {
            "_view_name": "LayoutView",
            "grid_template_rows": null,
            "right": null,
            "justify_content": null,
            "_view_module": "@jupyter-widgets/base",
            "overflow": null,
            "_model_module_version": "1.2.0",
            "_view_count": null,
            "flex_flow": null,
            "width": null,
            "min_width": null,
            "border": null,
            "align_items": null,
            "bottom": null,
            "_model_module": "@jupyter-widgets/base",
            "top": null,
            "grid_column": null,
            "overflow_y": null,
            "overflow_x": null,
            "grid_auto_flow": null,
            "grid_area": null,
            "grid_template_columns": null,
            "flex": null,
            "_model_name": "LayoutModel",
            "justify_items": null,
            "grid_row": null,
            "max_height": null,
            "align_content": null,
            "visibility": null,
            "align_self": null,
            "height": null,
            "min_height": null,
            "padding": null,
            "grid_auto_rows": null,
            "grid_gap": null,
            "max_width": null,
            "order": null,
            "_view_module_version": "1.2.0",
            "grid_template_areas": null,
            "object_position": null,
            "object_fit": null,
            "grid_auto_columns": null,
            "margin": null,
            "display": null,
            "left": null
          }
        },
        "b560cdf684b245e18fd8d6e208e4a43c": {
          "model_module": "@jupyter-widgets/controls",
          "model_name": "SliderStyleModel",
          "state": {
            "_view_name": "StyleView",
            "handle_color": null,
            "_model_name": "SliderStyleModel",
            "description_width": "",
            "_view_module": "@jupyter-widgets/base",
            "_model_module_version": "1.5.0",
            "_view_count": null,
            "_view_module_version": "1.2.0",
            "_model_module": "@jupyter-widgets/controls"
          }
        },
        "18c5f74dc9db4e9ca7d0f6577207cbb8": {
          "model_module": "@jupyter-widgets/base",
          "model_name": "LayoutModel",
          "state": {
            "_view_name": "LayoutView",
            "grid_template_rows": null,
            "right": null,
            "justify_content": null,
            "_view_module": "@jupyter-widgets/base",
            "overflow": null,
            "_model_module_version": "1.2.0",
            "_view_count": null,
            "flex_flow": null,
            "width": null,
            "min_width": null,
            "border": null,
            "align_items": null,
            "bottom": null,
            "_model_module": "@jupyter-widgets/base",
            "top": null,
            "grid_column": null,
            "overflow_y": null,
            "overflow_x": null,
            "grid_auto_flow": null,
            "grid_area": null,
            "grid_template_columns": null,
            "flex": null,
            "_model_name": "LayoutModel",
            "justify_items": null,
            "grid_row": null,
            "max_height": null,
            "align_content": null,
            "visibility": null,
            "align_self": null,
            "height": null,
            "min_height": null,
            "padding": null,
            "grid_auto_rows": null,
            "grid_gap": null,
            "max_width": null,
            "order": null,
            "_view_module_version": "1.2.0",
            "grid_template_areas": null,
            "object_position": null,
            "object_fit": null,
            "grid_auto_columns": null,
            "margin": null,
            "display": null,
            "left": null
          }
        },
        "d24a5b09c00f4af6ba0401bf4159228d": {
          "model_module": "@jupyter-widgets/controls",
          "model_name": "SliderStyleModel",
          "state": {
            "_view_name": "StyleView",
            "handle_color": null,
            "_model_name": "SliderStyleModel",
            "description_width": "",
            "_view_module": "@jupyter-widgets/base",
            "_model_module_version": "1.5.0",
            "_view_count": null,
            "_view_module_version": "1.2.0",
            "_model_module": "@jupyter-widgets/controls"
          }
        },
        "9172cf49b8e147abbc5be74e948d8423": {
          "model_module": "@jupyter-widgets/base",
          "model_name": "LayoutModel",
          "state": {
            "_view_name": "LayoutView",
            "grid_template_rows": null,
            "right": null,
            "justify_content": null,
            "_view_module": "@jupyter-widgets/base",
            "overflow": null,
            "_model_module_version": "1.2.0",
            "_view_count": null,
            "flex_flow": null,
            "width": null,
            "min_width": null,
            "border": null,
            "align_items": null,
            "bottom": null,
            "_model_module": "@jupyter-widgets/base",
            "top": null,
            "grid_column": null,
            "overflow_y": null,
            "overflow_x": null,
            "grid_auto_flow": null,
            "grid_area": null,
            "grid_template_columns": null,
            "flex": null,
            "_model_name": "LayoutModel",
            "justify_items": null,
            "grid_row": null,
            "max_height": null,
            "align_content": null,
            "visibility": null,
            "align_self": null,
            "height": null,
            "min_height": null,
            "padding": null,
            "grid_auto_rows": null,
            "grid_gap": null,
            "max_width": null,
            "order": null,
            "_view_module_version": "1.2.0",
            "grid_template_areas": null,
            "object_position": null,
            "object_fit": null,
            "grid_auto_columns": null,
            "margin": null,
            "display": null,
            "left": null
          }
        },
        "735a3404193a448abd48427a4fdd70c7": {
          "model_module": "@jupyter-widgets/output",
          "model_name": "OutputModel",
          "state": {
            "_view_name": "OutputView",
            "msg_id": "",
            "_dom_classes": [],
            "_model_name": "OutputModel",
            "outputs": [
              {
                "output_type": "display_data",
                "metadata": {
                  "tags": [],
                  "needs_background": "light"
                },
                "image/png": "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\n",
                "text/plain": "<Figure size 1440x720 with 1 Axes>"
              }
            ],
            "_view_module": "@jupyter-widgets/output",
            "_model_module_version": "1.0.0",
            "_view_count": null,
            "_view_module_version": "1.0.0",
            "layout": "IPY_MODEL_c4cedd7bccb440bb999633bffd24d2ce",
            "_model_module": "@jupyter-widgets/output"
          }
        },
        "c4cedd7bccb440bb999633bffd24d2ce": {
          "model_module": "@jupyter-widgets/base",
          "model_name": "LayoutModel",
          "state": {
            "_view_name": "LayoutView",
            "grid_template_rows": null,
            "right": null,
            "justify_content": null,
            "_view_module": "@jupyter-widgets/base",
            "overflow": null,
            "_model_module_version": "1.2.0",
            "_view_count": null,
            "flex_flow": null,
            "width": null,
            "min_width": null,
            "border": null,
            "align_items": null,
            "bottom": null,
            "_model_module": "@jupyter-widgets/base",
            "top": null,
            "grid_column": null,
            "overflow_y": null,
            "overflow_x": null,
            "grid_auto_flow": null,
            "grid_area": null,
            "grid_template_columns": null,
            "flex": null,
            "_model_name": "LayoutModel",
            "justify_items": null,
            "grid_row": null,
            "max_height": null,
            "align_content": null,
            "visibility": null,
            "align_self": null,
            "height": null,
            "min_height": null,
            "padding": null,
            "grid_auto_rows": null,
            "grid_gap": null,
            "max_width": null,
            "order": null,
            "_view_module_version": "1.2.0",
            "grid_template_areas": null,
            "object_position": null,
            "object_fit": null,
            "grid_auto_columns": null,
            "margin": null,
            "display": null,
            "left": null
          }
        }
      }
    }
  },
  "cells": [
    {
      "cell_type": "markdown",
      "metadata": {
        "id": "view-in-github",
        "colab_type": "text"
      },
      "source": [
        "<a href=\"https://colab.research.google.com/github/thecrazyphysicist369/strategic-Covid19-testing/blob/main/v2_Random_Testing.ipynb\" target=\"_parent\"><img src=\"https://colab.research.google.com/assets/colab-badge.svg\" alt=\"Open In Colab\"/></a>"
      ]
    },
    {
      "cell_type": "markdown",
      "metadata": {
        "id": "Pp8EGQSS_iZQ"
      },
      "source": [
        "#Random Testing\n",
        "\n",
        "#Run this cell\n"
      ]
    },
    {
      "cell_type": "code",
      "metadata": {
        "id": "Fk4KFImE-cDG"
      },
      "source": [
        "#Importing all the necessary libraries\n",
        "import matplotlib.pyplot as plt\n",
        "import networkx as nx\n",
        "import random\n",
        "import numpy as np\n",
        "import time\n",
        "import math\n",
        "from __future__ import print_function\n",
        "from ipywidgets import interact, interactive, fixed, interact_manual\n",
        "import ipywidgets as widgets"
      ],
      "execution_count": 3,
      "outputs": []
    },
    {
      "cell_type": "markdown",
      "metadata": {
        "id": "wsTw_rfG_gCG"
      },
      "source": [
        "This is the new model which considers the amount and the order of infection. This also considers the parameters and virus spreading more like real world. The *Contamination Level* for each individual is the amount of virus they are exposed to.\n",
        "\n",
        "1. 1 < *Cont_level* < 25 : Susceptible\n",
        "2. 26 < *Cont_level* < 50 : Exposed\n",
        "3. 51 < *Cont_level* < 75 : Infected\n",
        "4. 76 < *Cont_level* : Recovered\n",
        "\n",
        "#Run this cell"
      ]
    },
    {
      "cell_type": "code",
      "metadata": {
        "id": "hHdiRwDmy8ax"
      },
      "source": [
        "#vertex generator generates each individual with their properties\n",
        "def gen_vertex(n):\n",
        "    ver_list=[]\n",
        "    c=0\n",
        "\n",
        "    for i in range(n):\n",
        "      vertex = {\n",
        "                'index': c, \t\t\t# the unique index of the voter\n",
        "                'cont_level' : 0, # a positive number that increases everytime the\n",
        "                                  #individual meets another with covid.\n",
        "                'connected' : [], # the small world connections between the individuals\n",
        "                'd_sus' : 0,      # number of days the individual is susceptible\n",
        "                'd_expo' : 0,     # number of days the individual is exposed\n",
        "                'd_inf' : 0,      # number of days the individual is infected\n",
        "                'd_rec' : 0,      # number of days the individual takes to recover\n",
        "                'd_test' : 0,     \n",
        "                'd_death' : 0\n",
        "                }\n",
        "      ver_list.append(vertex)\n",
        "      c+=1\n",
        "    return ver_list\n",
        "\n",
        "#Generating the Small World Network\n",
        "def gen_graph(n, k, p):\n",
        "   population = gen_vertex(n)\n",
        "   G = nx.watts_strogatz_graph(n, k, p, seed=10)\n",
        "   neighbor = []\n",
        "   for node in list(sorted(G.nodes())):\n",
        "   \tneighbours = list(nx.all_neighbors(G, node))\n",
        "   \tneighbor.append(neighbours)\n",
        "   for i in range(n):\n",
        "     population[i]['connected'] = neighbor[i]\n",
        "     population[i]['index'] = int(i)\n",
        "     population[i]['cont_level'] = random.randint(0, 15)\n",
        "   return population\n",
        "\n",
        "#this is to expose n individuals from the population to the virus\n",
        "#1/5th of the exposed individuals will be infected in random\n",
        "def expose_population(n, population):\n",
        "  inf_list = []\n",
        "  limit = len(population)-1\n",
        "  for i in range(n):\n",
        "    index = random.randint(0, limit)\n",
        "    inf_list.append(index)\n",
        "    population[index]['cont_level'] = random.randint(25, 30) \n",
        "  return population, inf_list\n",
        "\n",
        "#random testing\n",
        "def random_testing(pop, tpm): #pop = population; tpm = tests per million\n",
        "  numbers = len(pop) # total population\n",
        "  test = int((tpm * numbers)/1000000) # number of tests that is needed to be done\n",
        "  for i in range(test): \n",
        "    index = random.randint(0, numbers - 1)\n",
        "    if pop[index]['cont_level'] <= 150 and pop[index]['cont_level'] > 25:\n",
        "      pop[index]['cont_level'] = -10\n",
        "  return pop\n",
        "\n",
        "#Death function\n",
        "def death(pop, infected):\n",
        "  for i in range(random.randint(0, int(len(infected)/100))):\n",
        "    index = infected[i]\n",
        "    pop[index]['cont_level']=151\n",
        "  return pop\n",
        "\n",
        "#Recovery\n",
        "def recovery(pop, infected):\n",
        "  for i in range(random.randint(0, int(len(infected)/10))):\n",
        "    index = infected[i]\n",
        "    pop[index]['cont_level']=-10\n",
        "  return pop\n",
        "\n",
        "\n",
        "\n",
        "#Contamination function\n",
        "def contaminate(a, b):\n",
        "  if a > 0 and a <= 130:\n",
        "    new = a + math.log10(b)\n",
        "  else:\n",
        "    new = a\n",
        "  return new\n",
        "\n",
        "def progress_bar(est, elas):\n",
        "  perc=(elas/est)*10\n",
        "  perc=int(perc)\n",
        "  rem=10-perc\n",
        "  print('[','#'*perc,' '*rem,']', ' ',perc*10, '%')"
      ],
      "execution_count": 4,
      "outputs": []
    },
    {
      "cell_type": "code",
      "metadata": {
        "id": "q8V6pe83W52v"
      },
      "source": [
        "population = gen_graph(100,3,0.3)\n",
        "population"
      ],
      "execution_count": null,
      "outputs": []
    },
    {
      "cell_type": "markdown",
      "metadata": {
        "id": "jij2_-dqnsFT"
      },
      "source": [
        "#Run this cell"
      ]
    },
    {
      "cell_type": "code",
      "metadata": {
        "id": "bcAbMTByy7wv"
      },
      "source": [
        "def days(pop, tpm):\n",
        "  list_S = [] #list for Susceptible Individuals\n",
        "  list_E = [] #list for Exposed Individuals\n",
        "  list_I = [] #list for Infected Individuals\n",
        "  list_R = [] #list for Recovered Individuals\n",
        "  list_D = [] #list for Dead Individuals\n",
        "\n",
        "  #Adding person to the respective lists based on their status\n",
        "  #compartmening the population\n",
        "\n",
        "  #Also creating a distribution map of the people\n",
        "  for person in pop:\n",
        "    level = person['cont_level']\n",
        "    if level >= 0 and level <= 25:\n",
        "      list_S.append(person['index'])\n",
        "      person['d_sus'] +=1\n",
        "    elif level > 25 and level <= 65:\n",
        "      list_E.append(person['index'])\n",
        "      person['d_expo'] +=1\n",
        "    elif level > 65 and level <=150:\n",
        "      list_I.append(person['index'])\n",
        "      person['d_inf'] +=1\n",
        "    elif level > 150:\n",
        "      list_D.append(person['index'])\n",
        "      person['d_death'] = 1\n",
        "    elif level==-10:\n",
        "      list_R.append(person['index'])\n",
        "      person['d_reco'] = random.randint(0,15)\n",
        "\n",
        "\n",
        "\n",
        "  #Infecting 1/5th of exposed population\n",
        "  ex_num = len(list_E)\n",
        "  num = int(ex_num/5)\n",
        "  for i in range(num):\n",
        "    r = random.randint(0,ex_num-1)\n",
        "    list_I.append(list_E[r])\n",
        "    list_E.pop(r)\n",
        "    ex_num = len(list_E)\n",
        "\n",
        "\n",
        "  #Spreading the Virus\n",
        "  for i in list_I:\n",
        "    friends = pop[i]['connected']  \n",
        "    for contacts in friends:\n",
        "      A = pop[contacts]['cont_level'] #is consuming\n",
        "      B = pop[i]['cont_level'] #is spreading\n",
        "      pop[contacts]['cont_level'] = contaminate(A, B)  #write a good fucntion here\n",
        "\n",
        "  \n",
        "\n",
        "  #Removing the duplicates from the list\n",
        "  list_S = list(dict.fromkeys(list_S))\n",
        "  list_E = list(dict.fromkeys(list_E))\n",
        "  list_I = list(dict.fromkeys(list_I))\n",
        "  list_R = list(dict.fromkeys(list_R))\n",
        "  list_D = list(dict.fromkeys(list_D))\n",
        "\n",
        "  #testing the population\n",
        "  pop = random_testing(pop, tpm)\n",
        "  pop = recovery(pop, list_I)\n",
        "  pop = death(pop, list_I)\n",
        "\n",
        "\n",
        "  return (pop, list_S, list_E, list_I, list_R, list_D)"
      ],
      "execution_count": 5,
      "outputs": []
    },
    {
      "cell_type": "code",
      "metadata": {
        "id": "xr6luNEx9iHp"
      },
      "source": [
        ""
      ],
      "execution_count": null,
      "outputs": []
    },
    {
      "cell_type": "markdown",
      "metadata": {
        "id": "jjzA07cPy9jj"
      },
      "source": [
        "#Execute this if you want to run the simulation with input values."
      ]
    },
    {
      "cell_type": "code",
      "metadata": {
        "colab": {
          "base_uri": "https://localhost:8080/",
          "height": 281
        },
        "id": "4ZvuQhvMEOCa",
        "outputId": "4b4958b1-2cf2-4e4b-c220-80a7967f7aff"
      },
      "source": [
        "\n",
        "population_size = 1000 #int(input(\"Enter population size : \"))\n",
        "\n",
        "k = 15 # int(input(\"\\nk nearest neighbors : \"))\n",
        "\n",
        "p = 0.5 # float(input(\"\\nProbablity of the contacts : \"))\n",
        "\n",
        "tpm = 200 #int(input(\"\\nTests per million population : \"))\n",
        "\n",
        "iterations = 1000 #int(input(\"\\nNumber of days the model to run : \"))\n",
        "\n",
        "ex = 50 #int(input(\"\\nNumber of Individuals initially exposed\"))\n",
        "\n",
        "\n",
        "#Generating the small world network\n",
        "population = gen_graph( population_size, k, p)\n",
        "\n",
        "#Exposing the population\n",
        "#li is the list of the first round of exposed population\n",
        "population,li = expose_population(ex, population)\n",
        "\n",
        "\n",
        "#Number of days the simulation need to run\n",
        "count = np.arange(iterations)\n",
        "\n",
        "\n",
        "# List to contain the current data\n",
        "susp = []\n",
        "expo = []\n",
        "infe = []\n",
        "reco = []\n",
        "dead = []\n",
        "\n",
        "\n",
        "elapsed = 0\n",
        "# Running the days simulation for given number of days\n",
        "for j in range (iterations):\n",
        "\tinter = []\n",
        "\ttic = time.time()\n",
        "\tpopulation, sus, exp, inf, rec, ded = days(population, tpm)\n",
        "\tsusp.append(len(sus)) #Count of suspected persons per day\n",
        "\texpo.append(len(exp)) #Count of exposed persons per day\n",
        "\tinfe.append(len(inf)) #Count of infected persons per day\n",
        "\treco.append(len(rec)) #Count of recovered persons per day\n",
        "\tdead.append(len(ded))\n",
        "\ttoc = time.time()\n",
        "\tone_day = toc - tic\n",
        "\telapsed += one_day  \n",
        "\testimated = elapsed*(iterations-j)\n",
        "\tremaining = (iterations * one_day) - (j * one_day)\n",
        "\t#progress_bar(estimated, elapsed)\n",
        "\t#print(\"Doing \",j,\"th iteration. Time :\",\"{:.2f}\".format(one_day),\n",
        "\t#      \"secs. Elapsed time :\",\"{:.2f}\".format(elapsed),\"secs. Estimated : \",\"{:.2f}\".format(estimated),\"secs\")\n",
        "\n",
        "\n",
        "plt.plot(count, susp, color='b', label = \"Susceptible\")\n",
        "plt.plot(count, expo, color='y', label = \"Exposed\")\n",
        "plt.plot(count, infe, color='r', label = \"Infected\")\n",
        "plt.plot(count, reco, color='g', label = \"Recovered\")\n",
        "plt.plot(count, dead, color='k', label = \"Dead\")\n",
        "label = \"Probability = \"+str(p)+\". Nearest Neigbours = \"+str(k)+\".\"\n",
        "plt.title(label, fontdict=None, loc='center', pad=None)\n",
        "plt.legend()\n",
        "plt.show()\n"
      ],
      "execution_count": 53,
      "outputs": [
        {
          "output_type": "display_data",
          "data": {
            "image/png": "[encoded data removed]",
            "text/plain": [
              "<Figure size 432x288 with 1 Axes>"
            ]
          },
          "metadata": {
            "tags": [],
            "needs_background": "light"
          }
        }
      ]
    },
    {
      "cell_type": "code",
      "metadata": {
        "id": "7Ykc4JB8E4pU"
      },
      "source": [
        "d_sus, d_expo, d_inf=[],[],[]\n",
        "for person in population:\n",
        "  d_expo.append(person['d_expo'])\n",
        "  if person['d_inf'] > 100:\n",
        "    d_inf.append(0)\n",
        "  else : \n",
        "    d_inf.append(person['d_inf'])\n",
        "  if person['d_sus'] == 1000:\n",
        "    d_sus.append(0)\n",
        "  else :\n",
        "    d_sus.append(person['d_sus'])"
      ],
      "execution_count": 54,
      "outputs": []
    },
    {
      "cell_type": "code",
      "metadata": {
        "colab": {
          "base_uri": "https://localhost:8080/",
          "height": 809
        },
        "id": "xTW1C27DEdPR",
        "outputId": "d10ee55b-1489-4731-fbb9-86827c8ad64a"
      },
      "source": [
        "#Plotting the susceptible distribution\n",
        "sus_plt = plt.plot(count, d_sus, color = 'b')\n",
        "sus_plt = plt.fill_between(count, d_sus, color = 'b')\n",
        "label = \"Susceptible; Probability = \"+str(p)+\". Nearest Neigbours = \"+str(k)+\".\"\n",
        "sus_plt = plt.title(label, fontdict=None, loc='center', pad=None)\n",
        "sus_plt = plt.show()\n",
        "#Plotting the exposed distribution\n",
        "expo_plt = plt.plot(count, d_expo, color = 'y')\n",
        "expo_plt = plt.fill_between(count, d_expo, color = 'y')\n",
        "label = \"Exposed; Probability = \"+str(p)+\". Nearest Neigbours = \"+str(k)+\".\"\n",
        "expo_plt = plt.title(label, fontdict=None, loc='center', pad=None)\n",
        "expo_plt = plt.show()\n",
        "#plotting the infected distribution\n",
        "inf_plt = plt.plot(count, d_inf, color = 'r')\n",
        "inf_plt = plt.fill_between(count, d_inf, color = 'r')\n",
        "label = \"Infected; Probability = \"+str(p)+\". Nearest Neigbours = \"+str(k)+\".\"\n",
        "inf_plt = plt.title(label, fontdict=None, loc='center', pad=None)\n",
        "inf_plt = plt.show()"
      ],
      "execution_count": 55,
      "outputs": [
        {
          "output_type": "display_data",
          "data": {
            "image/png": "[encoded data removed]",
            "text/plain": [
              "<Figure size 432x288 with 1 Axes>"
            ]
          },
          "metadata": {
            "tags": [],
            "needs_background": "light"
          }
        },
        {
          "output_type": "display_data",
          "data": {
            "image/png": "[encoded data removed]",
            "text/plain": [
              "<Figure size 432x288 with 1 Axes>"
            ]
          },
          "metadata": {
            "tags": [],
            "needs_background": "light"
          }
        },
        {
          "output_type": "display_data",
          "data": {
            "image/png": "[encoded data removed]",
            "text/plain": [
              "<Figure size 432x288 with 1 Axes>"
            ]
          },
          "metadata": {
            "tags": [],
            "needs_background": "light"
          }
        }
      ]
    },
    {
      "cell_type": "code",
      "metadata": {
        "id": "bWWN6D9j9lxl"
      },
      "source": [
        "frame=np.array([x_train,y_train,no_connected,no_of_generators,dist_probability])\n",
        "  dataset=pd.DataFrame(frame)\n",
        "  dataset=dataset.T\n",
        "  dataset.columns=[\"memory_assigned_to_each_node\",\"no_of_rounds\",\"no_connected_components\",\"no_of_generator\",\"distance_prob\"]\n",
        "  dataset.to_csv(\"observation\"+obs_no+\".csv\")"
      ],
      "execution_count": null,
      "outputs": []
    },
    {
      "cell_type": "markdown",
      "metadata": {
        "id": "aeoz41-z4JQf"
      },
      "source": [
        ""
      ]
    },
    {
      "cell_type": "code",
      "metadata": {
        "id": "Ur6eS8Cf4I5z"
      },
      "source": [
        ""
      ],
      "execution_count": null,
      "outputs": []
    },
    {
      "cell_type": "markdown",
      "metadata": {
        "id": "Yidjdl1vi9ds"
      },
      "source": [
        "#Execute this if you want to run the simulation with sliders."
      ]
    },
    {
      "cell_type": "code",
      "metadata": {
        "colab": {
          "base_uri": "https://localhost:8080/",
          "height": 639,
          "referenced_widgets": [
            "33a8410bafb44607b61021798066872e",
            "86d50e31310448f1a1b8f6b46084b2a1",
            "f482c0bb89374a6cad881885b7f5e35d",
            "01e461f82b514def93437091a2bc0a52",
            "81b062a9f389461aafc898e005c0f5bf",
            "3269143adc204546974b18fca60e8aca",
            "728263492c3348a882d267edb2cdc210",
            "9e29a472a0694ba5b9bc7185592f922c",
            "45a2ebe439474b1286743e1e805abbc0",
            "b2c01b5b2c5c4571a4986bb94dcfe4f4",
            "9887d0c0d9164a05878a3d868aa66eff",
            "fd1848ed4a304db7ab2fd05dfbffc650",
            "7ea9ec3de86e41948ebc0bdd92456e43",
            "f5410f906e394ba8973100e0e22dc4be",
            "664144b9586d4d4bb7268276a6b2f763",
            "5af2a41db679482e8322db2628363230",
            "b560cdf684b245e18fd8d6e208e4a43c",
            "18c5f74dc9db4e9ca7d0f6577207cbb8",
            "d24a5b09c00f4af6ba0401bf4159228d",
            "9172cf49b8e147abbc5be74e948d8423",
            "735a3404193a448abd48427a4fdd70c7",
            "c4cedd7bccb440bb999633bffd24d2ce"
          ]
        },
        "id": "y3nXrduOIftV",
        "outputId": "f9ca9d38-bab2-4df4-cfca-191c916b1932"
      },
      "source": [
        "pop = widgets.IntSlider(value=5000, \n",
        "                      description='population size', \n",
        "                      max=100000, \n",
        "                      min=10000,\n",
        "                      step=10000) #population_size\n",
        "k = widgets.IntSlider(value=10, \n",
        "                      description='nearest neighbors', \n",
        "                      max=100, \n",
        "                      min=0,\n",
        "                      step=5) #nearest neighbor\n",
        "p = widgets.FloatSlider(value=0.5,\n",
        "                        description='probability', \n",
        "                        max=1, \n",
        "                        min=0, \n",
        "                        step=0.1) #probability\n",
        "iter = widgets.IntSlider(value=100, \n",
        "                               description='days', \n",
        "                               max=600, \n",
        "                               min=0, \n",
        "                               step=20)\n",
        "tpm = widgets.IntSlider(value=1000,\n",
        "                        description='test per million',\n",
        "                        max=100000,\n",
        "                        min=1000,\n",
        "                        step=1000)\n",
        "ex = widgets.IntSlider(value=50,\n",
        "                       description='initial exposed',\n",
        "                       max=500,\n",
        "                       min=10,\n",
        "                       step=10)\n",
        "\n",
        "\n",
        "def simulation(pop,k,p,iter,tpm,ex):\n",
        "    #Generating the small world network\n",
        "    population = gen_graph(pop, k, p)\n",
        "\n",
        "    #Exposing the population\n",
        "    #li is the list of the first round of exposed population\n",
        "    population,li = expose_population(ex, population)\n",
        "\n",
        "\n",
        "    #Number of days the simulation need to run\n",
        "    count = np.arange(iter)\n",
        "\n",
        "\n",
        "    # List to contain the current data\n",
        "    susp = []\n",
        "    expo = []\n",
        "    infe = []\n",
        "    reco = []\n",
        "    dead = []\n",
        "\n",
        "\n",
        "    elapsed = 0\n",
        "    # Running the days simulation for given number of days\n",
        "    for j in range (iter):\n",
        "      inter = []\n",
        "      tic = time.time()\n",
        "      population, sus, exp, inf, rec, ded = days(population, tpm)\n",
        "      susp.append(len(sus)) #Count of suspected persons per day\n",
        "      expo.append(len(exp)) #Count of exposed persons per day\n",
        "      infe.append(len(inf)) #Count of infected persons per day\n",
        "      reco.append(len(rec)) #Count of recovered persons per day\n",
        "      dead.append(len(ded))\n",
        "      toc = time.time()\n",
        "      one_day = toc - tic\n",
        "      elapsed += one_day\n",
        "      estimated = elapsed*(iter-j)\n",
        "      remaining = (iter * one_day) - (j * one_day)\n",
        "      #print(\"Doing \",j,\"th iteration. Time :\",\"{:.2f}\".format(one_day),\n",
        "       #     \"secs. Elapsed time :\",\"{:.2f}\".format(elapsed),\"secs. Remaining : \",\"{:.2f}\".format(remaining),\"secs\")\n",
        "    #progress_bar(estimated,elapsed)\n",
        "    \n",
        "    plt.figure(figsize=(20,10))\n",
        "    plt.plot(count, susp, color='b', label = \"Susceptible\")\n",
        "    plt.plot(count, expo, color='y', label = \"Exposed\")\n",
        "    plt.plot(count, infe, color='r', label = \"Infected\")\n",
        "    plt.plot(count, reco, color='g', label = \"Recovered\")\n",
        "    plt.plot(count, dead, color='k', label = \"Dead\")\n",
        "    label = \"Probability = \"+str(p)+\". Nearest Neigbours = \"+str(k)+\".\"\n",
        "    plt.title(label, fontdict=None, loc='center', pad=None)\n",
        "    plt.legend()\n",
        "    return()\n",
        "ui = widgets.HBox([pop,k,p,iter,tpm,ex])\n",
        "out = widgets.interactive_output(simulation, {'pop':pop,'k':k,'p':p,'iter':iter,'tpm':tpm,'ex':ex})\n",
        "\n",
        "display(ui, out)"
      ],
      "execution_count": null,
      "outputs": [
        {
          "output_type": "display_data",
          "data": {
            "application/vnd.jupyter.widget-view+json": {
              "model_id": "33a8410bafb44607b61021798066872e",
              "version_minor": 0,
              "version_major": 2
            },
            "text/plain": [
              "HBox(children=(IntSlider(value=10000, description='population size', max=100000, min=10000, step=10000), IntSl…"
            ]
          },
          "metadata": {
            "tags": []
          }
        },
        {
          "output_type": "display_data",
          "data": {
            "application/vnd.jupyter.widget-view+json": {
              "model_id": "735a3404193a448abd48427a4fdd70c7",
              "version_minor": 0,
              "version_major": 2
            },
            "text/plain": [
              "Output()"
            ]
          },
          "metadata": {
            "tags": []
          }
        }
      ]
    },
    {
      "cell_type": "code",
      "metadata": {
        "id": "FbmWqr3xqNdC"
      },
      "source": [
        ""
      ],
      "execution_count": null,
      "outputs": []
    }
  ]
}